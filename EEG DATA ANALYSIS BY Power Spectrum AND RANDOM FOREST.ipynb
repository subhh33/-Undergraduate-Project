{
 "cells": [
  {
   "cell_type": "markdown",
   "id": "1b76c5bb",
   "metadata": {},
   "source": [
    "###  Load and Clean EEG Data"
   ]
  },
  {
   "cell_type": "code",
   "execution_count": 1,
   "id": "4853583f",
   "metadata": {},
   "outputs": [
    {
     "name": "stdout",
     "output_type": "stream",
     "text": [
      "(30355, 24)\n"
     ]
    }
   ],
   "source": [
    "import pandas as pd\n",
    "import numpy as np\n",
    "\n",
    "# Define file names\n",
    "filenames = ['HR_01.txt', 'HR_02.txt', 'SL_01.txt', 'SL_02.txt', 'SK_01.txt', 'SK_02.txt']\n",
    "\n",
    "# Function to load and clean data\n",
    "def load_eeg_data(filename):\n",
    "    # Skip the first few rows that contain metadata\n",
    "    data = pd.read_csv(filename, delimiter=',', skiprows=4)  # Adjust skiprows based on actual file structure\n",
    "    numeric_data = data.select_dtypes(include=[np.number])\n",
    "    return numeric_data.to_numpy()\n",
    "\n",
    "# Load and store data from all files\n",
    "eeg_data = {name: load_eeg_data(name) for name in filenames}\n",
    "\n",
    "# Print the shape of one dataset to verify\n",
    "print(eeg_data['HR_01.txt'].shape)\n"
   ]
  },
  {
   "cell_type": "markdown",
   "id": "cdfca2af",
   "metadata": {},
   "source": [
    "### Preprocess Data (Filtering)"
   ]
  },
  {
   "cell_type": "markdown",
   "id": "7bb99196",
   "metadata": {},
   "source": [
    "Apply a bandpass filter to isolate relevant frequency components."
   ]
  },
  {
   "cell_type": "code",
   "execution_count": 2,
   "id": "02500a81",
   "metadata": {},
   "outputs": [
    {
     "name": "stdout",
     "output_type": "stream",
     "text": [
      "(30355, 24)\n"
     ]
    }
   ],
   "source": [
    "from scipy.signal import butter, filtfilt\n",
    "\n",
    "# Define bandpass filter function\n",
    "def butter_bandpass(lowcut, highcut, fs, order=4):\n",
    "    nyquist = 0.5 * fs\n",
    "    low = lowcut / nyquist\n",
    "    high = highcut / nyquist\n",
    "    b, a = butter(order, [low, high], btype='band')\n",
    "    return b, a\n",
    "\n",
    "def apply_bandpass_filter(data, lowcut, highcut, fs, order=4):\n",
    "    b, a = butter_bandpass(lowcut, highcut, fs, order=order)\n",
    "    return filtfilt(b, a, data, axis=0)\n",
    "\n",
    "# Set sampling rate and filter parameters\n",
    "sampling_rate = 256  # Adjust based on actual sampling rate\n",
    "lowcut = 0.5  # Hz\n",
    "highcut = 50  # Hz\n",
    "\n",
    "# Apply filter to all EEG data\n",
    "filtered_eeg_data = {name: apply_bandpass_filter(data, lowcut, highcut, sampling_rate) for name, data in eeg_data.items()}\n",
    "\n",
    "# Check shape of filtered data\n",
    "print(filtered_eeg_data['HR_01.txt'].shape)\n"
   ]
  },
  {
   "cell_type": "markdown",
   "id": "b2dc35b0",
   "metadata": {},
   "source": [
    "### Compute Power Spectrum"
   ]
  },
  {
   "cell_type": "markdown",
   "id": "56769317",
   "metadata": {},
   "source": [
    "Calculate the power spectrum for each EEG channel using Welch's method."
   ]
  },
  {
   "cell_type": "code",
   "execution_count": 3,
   "id": "4a61012f",
   "metadata": {},
   "outputs": [
    {
     "name": "stdout",
     "output_type": "stream",
     "text": [
      "(24, 513)\n"
     ]
    }
   ],
   "source": [
    "from scipy.signal import welch\n",
    "\n",
    "# Function to compute power spectrum\n",
    "def compute_power_spectrum(data, fs):\n",
    "    freqs, psd = welch(data, fs, nperseg=1024)\n",
    "    return freqs, psd\n",
    "\n",
    "# Compute power spectrum for each file and channel\n",
    "power_spectrum_data = {}\n",
    "for name, data in filtered_eeg_data.items():\n",
    "    psd_list = []\n",
    "    for channel in range(data.shape[1]):\n",
    "        freqs, psd = compute_power_spectrum(data[:, channel], sampling_rate)\n",
    "        psd_list.append(psd)\n",
    "    power_spectrum_data[name] = np.array(psd_list)\n",
    "\n",
    "# Print shape of power spectrum data\n",
    "print(power_spectrum_data['HR_01.txt'].shape)\n"
   ]
  },
  {
   "cell_type": "markdown",
   "id": "b6a8a710",
   "metadata": {},
   "source": [
    "### Extract Features from Power Spectrum"
   ]
  },
  {
   "cell_type": "markdown",
   "id": "1012d9ce",
   "metadata": {},
   "source": [
    "Extract features by computing the power in specific frequency bands.\n",
    "\n"
   ]
  },
  {
   "cell_type": "code",
   "execution_count": 4,
   "id": "df36e2fd",
   "metadata": {},
   "outputs": [
    {
     "name": "stdout",
     "output_type": "stream",
     "text": [
      "(24, 5)\n"
     ]
    }
   ],
   "source": [
    "# Define frequency bands\n",
    "bands = {'delta': (0.5, 4), 'theta': (4, 8), 'alpha': (8, 12), 'beta': (12, 30), 'gamma': (30, 50)}\n",
    "\n",
    "# Function to calculate band power from power spectrum\n",
    "def bandpower(psd, freqs, low, high):\n",
    "    idx_band = np.logical_and(freqs >= low, freqs <= high)\n",
    "    return np.sum(psd[idx_band])\n",
    "\n",
    "# Extract features for each file\n",
    "features = {}\n",
    "for name, psd_list in power_spectrum_data.items():\n",
    "    feature_matrix = []\n",
    "    for psd in psd_list:\n",
    "        feature_vector = [bandpower(psd, freqs, low, high) for low, high in bands.values()]\n",
    "        feature_matrix.append(feature_vector)\n",
    "    features[name] = np.array(feature_matrix)\n",
    "\n",
    "# Check extracted features\n",
    "print(features['HR_01.txt'].shape)\n"
   ]
  },
  {
   "cell_type": "markdown",
   "id": "6f385b13",
   "metadata": {},
   "source": [
    "####  Label Data\n",
    "Assign labels based on the time intervals. "
   ]
  },
  {
   "cell_type": "code",
   "execution_count": 5,
   "id": "e0d44255",
   "metadata": {},
   "outputs": [
    {
     "name": "stdout",
     "output_type": "stream",
     "text": [
      "(144, 5) (144,)\n"
     ]
    }
   ],
   "source": [
    "# Define labels for each measurement\n",
    "labels = {'HR_01.txt': 0, 'HR_02.txt': 1, 'SL_01.txt': 0, 'SL_02.txt': 1, 'SK_01.txt': 0, 'SK_02.txt': 1}\n",
    "\n",
    "# Prepare features and labels for ML\n",
    "X = np.concatenate([features[name] for name in filenames])\n",
    "y = np.array([labels[name] for name in filenames for _ in range(features[name].shape[0])])\n",
    "\n",
    "# Print feature and label shapes\n",
    "print(X.shape, y.shape)\n"
   ]
  },
  {
   "cell_type": "markdown",
   "id": "ebd6f47b",
   "metadata": {},
   "source": [
    "###  Apply Machine Learning Model\n",
    "Use a Random Forest classifier to predict stress levels."
   ]
  },
  {
   "cell_type": "code",
   "execution_count": 6,
   "id": "2458ffa8",
   "metadata": {},
   "outputs": [
    {
     "name": "stdout",
     "output_type": "stream",
     "text": [
      "Model accuracy: 61.36%\n",
      "Classification Report:\n",
      "              precision    recall  f1-score   support\n",
      "\n",
      "           0       0.81      0.48      0.60        27\n",
      "           1       0.50      0.82      0.62        17\n",
      "\n",
      "    accuracy                           0.61        44\n",
      "   macro avg       0.66      0.65      0.61        44\n",
      "weighted avg       0.69      0.61      0.61        44\n",
      "\n"
     ]
    }
   ],
   "source": [
    "from sklearn.model_selection import train_test_split\n",
    "from sklearn.ensemble import RandomForestClassifier\n",
    "from sklearn.metrics import accuracy_score, classification_report\n",
    "\n",
    "# Split into training and test sets\n",
    "X_train, X_test, y_train, y_test = train_test_split(X, y, test_size=0.3, random_state=42)\n",
    "\n",
    "# Train Random Forest classifier\n",
    "model = RandomForestClassifier(n_estimators=100, random_state=42)\n",
    "model.fit(X_train, y_train)\n",
    "\n",
    "# Make predictions and evaluate\n",
    "y_pred = model.predict(X_test)\n",
    "accuracy = accuracy_score(y_test, y_pred)\n",
    "report = classification_report(y_test, y_pred)\n",
    "\n",
    "print(f'Model accuracy: {accuracy * 100:.2f}%')\n",
    "print('Classification Report:')\n",
    "print(report)\n"
   ]
  },
  {
   "cell_type": "markdown",
   "id": "7d2c6772",
   "metadata": {},
   "source": [
    "###  Evaluate and Compare\n",
    "Compare the morning and evening data based on the extracted features and model predictions. "
   ]
  },
  {
   "cell_type": "code",
   "execution_count": 9,
   "id": "c178f3b6",
   "metadata": {},
   "outputs": [
    {
     "name": "stdout",
     "output_type": "stream",
     "text": [
      "Delta Band Power:\n",
      "Morning: 2012715.6997404105\n",
      "Evening: 21076910.88568538\n",
      "\n",
      "Theta Band Power:\n",
      "Morning: 4321.646891814911\n",
      "Evening: 1159497.8463291188\n",
      "\n",
      "Alpha Band Power:\n",
      "Morning: 538.0386761764313\n",
      "Evening: 290641.3292907902\n",
      "\n",
      "Beta Band Power:\n",
      "Morning: 905.1396747345757\n",
      "Evening: 279661.58610555995\n",
      "\n",
      "Gamma Band Power:\n",
      "Morning: 100.83241052764345\n",
      "Evening: 21198.874496196906\n",
      "\n"
     ]
    }
   ],
   "source": [
    "# Convert bands.keys() to a list to access indices\n",
    "band_names = list(bands.keys())\n",
    "\n",
    "# Calculate average power in different bands for morning vs. evening\n",
    "for band in band_names:\n",
    "    band_index = band_names.index(band)  # Get the index of the band\n",
    "    # Extract features for morning and evening\n",
    "    morning_powers = [np.mean(features[name][:, band_index]) for name in ['HR_01.txt', 'SL_01.txt', 'SK_01.txt']]\n",
    "    evening_powers = [np.mean(features[name][:, band_index]) for name in ['HR_02.txt', 'SL_02.txt', 'SK_02.txt']]\n",
    "    \n",
    "    print(f\"{band.capitalize()} Band Power:\")\n",
    "    print(f\"Morning: {np.mean(morning_powers)}\")\n",
    "    print(f\"Evening: {np.mean(evening_powers)}\")\n",
    "    print()\n",
    "\n"
   ]
  },
  {
   "cell_type": "markdown",
   "id": "2f2d83eb",
   "metadata": {},
   "source": [
    "##### The results from your power spectrum analysis show the average power in different EEG frequency bands for morning and evening sessions. Here’s a detailed explanation of what these results might indicate:\n",
    "\n",
    "### 1. Delta Band Power:\n",
    "Morning: 2,012,715.70\n",
    "Evening: 21,076,910.89\n",
    "\n",
    "#### Explanation:\n",
    "\n",
    "Delta Waves (0.5-4 Hz): These are the slowest brain waves, typically associated with deep sleep and restorative processes.\n",
    "Higher Evening Power: The significantly higher power in the delta band during the evening might suggest that the subjects are experiencing a state of deeper relaxation or are potentially in a sleep-like state in the evening compared to the morning. It could also indicate increased restorative processes or fatigue accumulation over the day.\n",
    "### 2. Theta Band Power:\n",
    "Morning: 4,321.65\n",
    "Evening: 1,159,497.85\n",
    "\n",
    "#### Explanation:\n",
    "\n",
    "Theta Waves (4-8 Hz): These waves are often linked with drowsiness, relaxation, and light sleep. They can also be associated with creative thinking and emotional processing.\n",
    "Much Higher Evening Power: The evening power is significantly higher, which might reflect increased relaxation or cognitive processing in the evening. It may indicate a transition towards a more relaxed or introspective state as the day progresses.\n",
    "### 3. Alpha Band Power:\n",
    "Morning: 538.04\n",
    "Evening: 290,641.33\n",
    "\n",
    "### Explanation:\n",
    "\n",
    "Alpha Waves (8-12 Hz): These are typically seen during relaxed, calm states when the eyes are closed but the person is awake. They are associated with relaxed alertness and mental coordination.\n",
    "Much Higher Evening Power: The very high alpha power in the evening could signify a higher level of relaxation or a state of calmness in the evening compared to the morning. It may also indicate a greater level of relaxed wakefulness or mental peace in the evening.\n",
    "### 4. Beta Band Power:\n",
    "Morning: 905.14\n",
    "Evening: 279,661.59\n",
    "\n",
    "#### Explanation:\n",
    "\n",
    "Beta Waves (12-30 Hz): These waves are associated with active thinking, problem-solving, and active concentration. Higher beta activity generally reflects cognitive engagement or stress.\n",
    "Much Higher Evening Power: The higher beta power in the evening might suggest that subjects are more engaged in cognitive or stress-related activities in the evening. Alternatively, it could reflect increased mental activity or alertness later in the day.\n",
    "### 5. Gamma Band Power:\n",
    "Morning: 100.83\n",
    "Evening: 21,198.87\n",
    "\n",
    "#### Explanation:\n",
    "\n",
    "Gamma Waves (30-50 Hz): These are the fastest brain waves, associated with high-level cognitive functions, sensory processing, and active information processing.\n",
    "Much Higher Evening Power: The increase in gamma power in the evening might indicate heightened cognitive processing or increased mental effort in the evening. It could also reflect a state of high alertness or complex cognitive activities.\n",
    "\n",
    "\n",
    "##### Summary\n",
    "In general, the higher power in the evening across all frequency bands suggests that subjects might be experiencing increased cognitive processing or relaxation as the day progresses. It’s important to consider factors such as individual differences, daily routines, and overall mental state, as they can influence these measurements.\n",
    "\n",
    "The results may imply that the evening data shows more pronounced changes in brain activity, potentially linked to the subjects' mental fatigue or stress levels. Further analysis, including statistical tests and comparisons, can provide more insights into these trends and their implications for measuring mental fatigue or stress."
   ]
  },
  {
   "cell_type": "code",
   "execution_count": null,
   "id": "a6af6eae",
   "metadata": {},
   "outputs": [],
   "source": []
  },
  {
   "cell_type": "markdown",
   "id": "2bc7e218",
   "metadata": {},
   "source": [
    "## FURTHER  ANALYSIS"
   ]
  },
  {
   "cell_type": "code",
   "execution_count": null,
   "id": "9c10b81c",
   "metadata": {},
   "outputs": [],
   "source": []
  },
  {
   "cell_type": "markdown",
   "id": "886385b4",
   "metadata": {},
   "source": [
    "### Prepare Data for Statistical Analysis\n",
    "We need to prepare the data by structuring it in a format suitable for statistical tests."
   ]
  },
  {
   "cell_type": "code",
   "execution_count": 10,
   "id": "90bfc0b6",
   "metadata": {},
   "outputs": [
    {
     "name": "stdout",
     "output_type": "stream",
     "text": [
      "          delta         theta         alpha          beta         gamma  \\\n",
      "0  1.867929e+04  2.038859e+03  6.594097e+02  7.126706e+02  1.578204e+02   \n",
      "1  7.137375e+05  4.130400e+03  1.156322e+03  1.252667e+03  3.390694e+02   \n",
      "2  7.708015e+06  2.090707e+04  4.830771e+03  3.773384e+03  9.205008e+02   \n",
      "3  5.010036e+05  1.055648e+04  2.702035e+03  1.988173e+03  4.082345e+02   \n",
      "4  6.771325e-11  3.690148e-17  2.905945e-19  2.280320e-20  1.141598e-22   \n",
      "\n",
      "        File     Time  \n",
      "0  HR_01.txt  Morning  \n",
      "1  HR_01.txt  Morning  \n",
      "2  HR_01.txt  Morning  \n",
      "3  HR_01.txt  Morning  \n",
      "4  HR_01.txt  Morning  \n"
     ]
    }
   ],
   "source": [
    "import numpy as np\n",
    "import pandas as pd\n",
    "\n",
    "# Convert features dictionary to a DataFrame for easier manipulation\n",
    "def features_to_dataframe(features_dict):\n",
    "    data_list = []\n",
    "    for name, feature_matrix in features_dict.items():\n",
    "        for feature_vector in feature_matrix:\n",
    "            data_list.append(list(feature_vector) + [name])\n",
    "    \n",
    "    df = pd.DataFrame(data_list, columns=list(bands.keys()) + ['File'])\n",
    "    return df\n",
    "\n",
    "# Prepare data\n",
    "features_df = features_to_dataframe(features)\n",
    "\n",
    "# Add labels for morning and evening\n",
    "features_df['Time'] = features_df['File'].apply(lambda x: 'Morning' if '01' in x else 'Evening')\n",
    "\n",
    "# Check the structure of the DataFrame\n",
    "print(features_df.head())\n"
   ]
  },
  {
   "cell_type": "code",
   "execution_count": null,
   "id": "ea00c62d",
   "metadata": {},
   "outputs": [],
   "source": []
  },
  {
   "cell_type": "markdown",
   "id": "d1e53f16",
   "metadata": {},
   "source": [
    "### Perform Statistical Tests\n",
    "Use statistical tests like the t-test to compare the power in different bands between morning and evening sessions."
   ]
  },
  {
   "cell_type": "code",
   "execution_count": 14,
   "id": "62d25d50",
   "metadata": {},
   "outputs": [
    {
     "name": "stdout",
     "output_type": "stream",
     "text": [
      "       t-statistic   p-value\n",
      "delta    -2.055477  0.043465\n",
      "theta    -1.849836  0.068499\n",
      "alpha    -1.672368  0.098853\n",
      "beta     -1.679262  0.097497\n",
      "gamma    -1.896524  0.061959\n"
     ]
    }
   ],
   "source": [
    "from scipy.stats import ttest_ind\n",
    "\n",
    "# Function to perform t-test\n",
    "def perform_ttest(df, band):\n",
    "    morning_data = df[df['Time'] == 'Morning'][band]\n",
    "    evening_data = df[df['Time'] == 'Evening'][band]\n",
    "    t_stat, p_value = ttest_ind(morning_data, evening_data, equal_var=False)\n",
    "    return t_stat, p_value\n",
    "\n",
    "# Perform t-tests for each band\n",
    "ttest_results = {}\n",
    "for band in bands.keys():\n",
    "    t_stat, p_value = perform_ttest(features_df, band)\n",
    "    ttest_results[band] = {'t-statistic': t_stat, 'p-value': p_value}\n",
    "\n",
    "# Display t-test results\n",
    "print(pd.DataFrame(ttest_results).T)\n"
   ]
  },
  {
   "cell_type": "code",
   "execution_count": null,
   "id": "b4c0ce3e",
   "metadata": {},
   "outputs": [],
   "source": []
  },
  {
   "cell_type": "markdown",
   "id": "3b6371f7",
   "metadata": {},
   "source": [
    "### Compare Morning and Evening Data\n",
    "Calculate the average power in each band for morning and evening sessions and perform a comparison."
   ]
  },
  {
   "cell_type": "code",
   "execution_count": null,
   "id": "45096ac7",
   "metadata": {},
   "outputs": [],
   "source": []
  },
  {
   "cell_type": "code",
   "execution_count": 12,
   "id": "4eb20460",
   "metadata": {},
   "outputs": [
    {
     "name": "stdout",
     "output_type": "stream",
     "text": [
      "Average Power in Different Bands:\n",
      "                delta         theta          alpha           beta  \\\n",
      "Time                                                                \n",
      "Evening  2.107691e+07  1.159498e+06  290641.329291  279661.586106   \n",
      "Morning  2.012716e+06  4.321647e+03     538.038676     905.139675   \n",
      "\n",
      "                gamma  \n",
      "Time                   \n",
      "Evening  21198.874496  \n",
      "Morning    100.832411  \n"
     ]
    }
   ],
   "source": [
    "# Calculate average power in each band for morning and evening\n",
    "average_powers = features_df.groupby(['Time']).mean()\n",
    "\n",
    "# Print average powers\n",
    "print(\"Average Power in Different Bands:\")\n",
    "print(average_powers)\n"
   ]
  },
  {
   "cell_type": "code",
   "execution_count": null,
   "id": "509c9d53",
   "metadata": {},
   "outputs": [],
   "source": []
  },
  {
   "cell_type": "code",
   "execution_count": null,
   "id": "6c5a67f8",
   "metadata": {},
   "outputs": [],
   "source": []
  },
  {
   "cell_type": "code",
   "execution_count": null,
   "id": "1ca992d7",
   "metadata": {},
   "outputs": [],
   "source": []
  },
  {
   "cell_type": "markdown",
   "id": "fe00f589",
   "metadata": {},
   "source": [
    "#### 4. Visualize Results\n",
    "Visualize the results to better understand the differences between morning and evening sessions."
   ]
  },
  {
   "cell_type": "code",
   "execution_count": 13,
   "id": "bde83625",
   "metadata": {},
   "outputs": [
    {
     "data": {
      "image/png": "[encoded data removed]",
      "text/plain": [
       "<Figure size 720x432 with 1 Axes>"
      ]
     },
     "metadata": {
      "needs_background": "light"
     },
     "output_type": "display_data"
    },
    {
     "data": {
      "image/png": "[encoded data removed]",
      "text/plain": [
       "<Figure size 720x432 with 1 Axes>"
      ]
     },
     "metadata": {
      "needs_background": "light"
     },
     "output_type": "display_data"
    },
    {
     "data": {
      "image/png": "[encoded data removed]",
      "text/plain": [
       "<Figure size 720x432 with 1 Axes>"
      ]
     },
     "metadata": {
      "needs_background": "light"
     },
     "output_type": "display_data"
    },
    {
     "data": {
      "image/png": "[encoded data removed]",
      "text/plain": [
       "<Figure size 720x432 with 1 Axes>"
      ]
     },
     "metadata": {
      "needs_background": "light"
     },
     "output_type": "display_data"
    },
    {
     "data": {
      "image/png": "[encoded data removed]",
      "text/plain": [
       "<Figure size 720x432 with 1 Axes>"
      ]
     },
     "metadata": {
      "needs_background": "light"
     },
     "output_type": "display_data"
    }
   ],
   "source": [
    "import matplotlib.pyplot as plt\n",
    "\n",
    "# Function to plot bar charts\n",
    "def plot_band_power_comparison(df, band):\n",
    "    plt.figure(figsize=(10, 6))\n",
    "    df.groupby('Time')[band].mean().plot(kind='bar', color=['skyblue', 'salmon'])\n",
    "    plt.title(f'Average {band.capitalize()} Band Power')\n",
    "    plt.ylabel('Power')\n",
    "    plt.xlabel('Time of Day')\n",
    "    plt.xticks(rotation=0)\n",
    "    plt.show()\n",
    "\n",
    "# Plot for each band\n",
    "for band in bands.keys():\n",
    "    plot_band_power_comparison(features_df, band)\n"
   ]
  },
  {
   "cell_type": "markdown",
   "id": "e5ac283a",
   "metadata": {},
   "source": [
    "\n",
    "#### Prepare Data:\n",
    "\n",
    "Convert the features dictionary into a DataFrame.\n",
    "Add a column to distinguish between morning and evening data.\n",
    "\n",
    "### Statistical Tests:\n",
    "\n",
    "Use the t-test to compare the means of morning and evening power values for each band.\n",
    "The ttest_ind function calculates the t-statistic and p-value, helping determine if there’s a significant difference.\n",
    "\n",
    "#### Compare Data:\n",
    "\n",
    "Calculate and display the average power for each frequency band in both morning and evening sessions.\n",
    "\n",
    "#### Visualize Results:\n",
    "\n",
    "Use bar charts to visualize the differences in average power between morning and evening sessions for each frequency band.\n",
    "This analysis will provide you with statistical evidence of any significant differences between the morning and evening data and help you interpret these differences in the context of mental fatigue or stress."
   ]
  },
  {
   "cell_type": "code",
   "execution_count": null,
   "id": "3121dada",
   "metadata": {},
   "outputs": [],
   "source": []
  }
 ],
 "metadata": {
  "kernelspec": {
   "display_name": "Python 3 (ipykernel)",
   "language": "python",
   "name": "python3"
  },
  "language_info": {
   "codemirror_mode": {
    "name": "ipython",
    "version": 3
   },
   "file_extension": ".py",
   "mimetype": "text/x-python",
   "name": "python",
   "nbconvert_exporter": "python",
   "pygments_lexer": "ipython3",
   "version": "3.9.7"
  }
 },
 "nbformat": 4,
 "nbformat_minor": 5
}
